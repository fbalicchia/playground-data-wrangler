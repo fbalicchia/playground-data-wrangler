{
 "cells": [
  {
   "cell_type": "code",
   "execution_count": 5,
   "metadata": {},
   "outputs": [],
   "source": [
    "import os\n",
    "from datetime import datetime, date, timedelta\n",
    "import urllib.request as urllib2\n",
    "import tempfile\n",
    "import pandas as pd\n",
    "import pyarrow as pa\n",
    "from deltalake import DeltaTable\n",
    "from deltalake.writer import write_deltalake\n",
    "import re ,shutil\n",
    "from urllib.request import urlopen\n",
    "def get_file_path(filename):\n",
    "    return os.path.join(tempfile.gettempdir(), filename)\n",
    "def load(Path):    \n",
    "    \n",
    "    table_path = Path \n",
    "    try:\n",
    "        df = DeltaTable(table_path).to_pandas()\n",
    "    except:\n",
    "        df=pd.DataFrame(columns=['file']) \n",
    "    \n",
    "    print (df)\n",
    "    #print(current)"
   ]
  },
  {
   "cell_type": "code",
   "execution_count": 7,
   "metadata": {},
   "outputs": [
    {
     "name": "stdout",
     "output_type": "stream",
     "text": [
      "   name  id\n",
      "0  John   1\n",
      "1  Jane   2\n",
      "duckdb output\n",
      "   name  id\n",
      "0  John   1\n",
      "1  Jane   2\n"
     ]
    }
   ],
   "source": [
    "import duckdb \n",
    "from deltalake import DeltaTable\n",
    "\n",
    "# Define the Path to your Delta Table.\n",
    "table_path = \"./mytable\"\n",
    "load(table_path)\n",
    "# Get table as pyarrow table\n",
    "dt = DeltaTable(table_path).to_pyarrow_table()\n",
    "\n",
    "# Query arrow table as an ordinary SQL Table.\n",
    "\n",
    "con = duckdb.connect()\n",
    "results =con.execute('''Select * from dt''').arrow()\n",
    "results = results.to_pandas()\n",
    "print(\"duckdb output\")\n",
    "print(results)"
   ]
  },
  {
   "cell_type": "code",
   "execution_count": null,
   "metadata": {},
   "outputs": [],
   "source": []
  }
 ],
 "metadata": {
  "kernelspec": {
   "display_name": "Python 3 (ipykernel)",
   "language": "python",
   "name": "python3"
  },
  "language_info": {
   "codemirror_mode": {
    "name": "ipython",
    "version": 3
   },
   "file_extension": ".py",
   "mimetype": "text/x-python",
   "name": "python",
   "nbconvert_exporter": "python",
   "pygments_lexer": "ipython3",
   "version": "3.8.2"
  },
  "vscode": {
   "interpreter": {
    "hash": "7bd9e7efb6a75100408ddfb69d7c1262d756eda87c38ad89179993e0cd08f6f1"
   }
  }
 },
 "nbformat": 4,
 "nbformat_minor": 4
}
